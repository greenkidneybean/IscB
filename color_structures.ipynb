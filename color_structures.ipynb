{
 "cells": [
  {
   "cell_type": "code",
   "execution_count": null,
   "id": "e7cea1ac-cace-4135-b94f-ffac6c7fb767",
   "metadata": {},
   "outputs": [],
   "source": [
    "# this script colors residues based on AlphaFold2 confidence assignment ('plddt')\n",
    "# uses 'ranked_0.pdb' model and 'result_model_1.pkl' features for plddt values"
   ]
  },
  {
   "cell_type": "code",
   "execution_count": 11,
   "id": "2be27acd-f0de-40c8-a3c0-3d3b896ae0dd",
   "metadata": {},
   "outputs": [
    {
     "name": "stdout",
     "output_type": "stream",
     "text": [
      "# conda environments:\n",
      "#\n",
      "base                  *  /Users/chambersmj/opt/miniconda3\n",
      "524_env                  /Users/chambersmj/opt/miniconda3/envs/524_env\n",
      "alignparse-environment     /Users/chambersmj/opt/miniconda3/envs/alignparse-environment\n",
      "alignparse_env           /Users/chambersmj/opt/miniconda3/envs/alignparse_env\n",
      "data_env                 /Users/chambersmj/opt/miniconda3/envs/data_env\n",
      "multiqc_env              /Users/chambersmj/opt/miniconda3/envs/multiqc_env\n",
      "pymol_3                  /Users/chambersmj/opt/miniconda3/envs/pymol_3\n",
      "\n"
     ]
    }
   ],
   "source": [
    "!conda env list"
   ]
  },
  {
   "cell_type": "code",
   "execution_count": 1,
   "id": "878926b8-c42c-45ac-883e-23b85aad48ce",
   "metadata": {},
   "outputs": [],
   "source": [
    "import pickle\n",
    "import numpy as np\n",
    "import pandas as pd\n",
    "import pymol"
   ]
  },
  {
   "cell_type": "code",
   "execution_count": 9,
   "id": "e0279ba9-2637-4345-85ba-41ce4b703c6b",
   "metadata": {},
   "outputs": [],
   "source": [
    "#files = ['horse','pig','vacv','cowpox']\n",
    "input_dirs = ['af_iscb']\n",
    "\n",
    "# use EMBL colors\n",
    "pymol.cmd.set_color('blue',[0, 83, 214])\n",
    "pymol.cmd.set_color('cyan',[101, 203, 243])\n",
    "pymol.cmd.set_color('yellow',[255, 219, 19])\n",
    "pymol.cmd.set_color('orange',[255, 125, 69])\n",
    "\n",
    "# binning\n",
    "bin_labels = ['yellow','orange','cyan','blue']\n",
    "bin_cut = [0,50,70,90,100]\n",
    "\n",
    "# get pickle data\n",
    "for input_dir in input_dirs:\n",
    "    \n",
    "    # read features.pkl file\n",
    "    with open(f'{input_dir}/result_model_1.pkl', 'rb') as f:\n",
    "        data = pickle.load(f)\n",
    "        \n",
    "    # add plddt data to dataframe\n",
    "    plddt = np.array(data['plddt'])\n",
    "\n",
    "    # bin the data\n",
    "    bin_val = pd.cut(plddt, bins=bin_cut, labels=bin_labels)\n",
    "\n",
    "    # edit protein structure\n",
    "    pymol.cmd.load(f'{input_dir}/ranked_0.pdb')\n",
    "\n",
    "    for n,i in enumerate(bin_val):\n",
    "        res = n+1\n",
    "        pymol.cmd.color(color=i, selection=f'(resi {res})')\n",
    "    \n",
    "    # output\n",
    "    pymol.cmd.png(f'plddt_coloring/iscb.png',900,900,300,1)\n",
    "    pymol.cmd.save(filename=f'plddt_coloring/iscb.pse')\n",
    "    pymol.cmd.delete('ranked_0')"
   ]
  },
  {
   "cell_type": "code",
   "execution_count": 10,
   "id": "fd6a5f58-6e53-4db6-9232-d8f4d1097f32",
   "metadata": {},
   "outputs": [
    {
     "data": {
      "text/plain": [
       "dict_keys(['distogram', 'experimentally_resolved', 'masked_msa', 'predicted_lddt', 'structure_module', 'plddt'])"
      ]
     },
     "execution_count": 10,
     "metadata": {},
     "output_type": "execute_result"
    }
   ],
   "source": [
    "data.keys()"
   ]
  },
  {
   "cell_type": "code",
   "execution_count": null,
   "id": "c846ec91-3e63-4b23-a5bb-ea42f6064264",
   "metadata": {},
   "outputs": [],
   "source": []
  }
 ],
 "metadata": {
  "kernelspec": {
   "display_name": "pymol_env",
   "language": "python",
   "name": "pymol_env"
  },
  "language_info": {
   "codemirror_mode": {
    "name": "ipython",
    "version": 3
   },
   "file_extension": ".py",
   "mimetype": "text/x-python",
   "name": "python",
   "nbconvert_exporter": "python",
   "pygments_lexer": "ipython3",
   "version": "3.8.10"
  }
 },
 "nbformat": 4,
 "nbformat_minor": 5
}
