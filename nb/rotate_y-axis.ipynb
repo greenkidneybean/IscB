{
 "cells": [
  {
   "cell_type": "code",
   "execution_count": 2,
   "id": "01e737bc-4e50-43ca-9361-4e8e19427b97",
   "metadata": {},
   "outputs": [],
   "source": [
    "# make a .gif rotating .pse around y-axis\n",
    "# the animation looks like shit, likely converting png to jpg issue\n",
    "\n",
    "# input file\n",
    "input_file = 'plddt_coloring/iscb_center.pse'\n",
    "\n",
    "import imageio\n",
    "import pymol\n",
    "from PIL import Image"
   ]
  },
  {
   "cell_type": "code",
   "execution_count": 4,
   "id": "f19ddba7-611e-46ae-8699-e74a6fb030ec",
   "metadata": {},
   "outputs": [
    {
     "name": "stdout",
     "output_type": "stream",
     "text": [
      "Done with step 0\n",
      "Done with step 10\n",
      "Done with step 20\n",
      "Done with step 30\n",
      "Done with step 40\n",
      "Done with step 50\n",
      "Done with step 60\n",
      "Done with step 70\n",
      "Done with step 80\n",
      "Done with step 90\n",
      "Done with step 100\n",
      "Done with step 110\n",
      "Done with step 120\n",
      "Done with step 130\n",
      "Done with step 140\n",
      "Done with step 150\n",
      "Done with step 160\n",
      "Done with step 170\n",
      "Done with step 180\n",
      "Done with step 190\n",
      "Done with step 200\n",
      "Done with step 210\n",
      "Done with step 220\n",
      "Done with step 230\n",
      "Done with step 240\n",
      "Done with step 250\n",
      "Done with step 260\n",
      "Done with step 270\n",
      "Done with step 280\n",
      "Done with step 290\n",
      "Done with step 300\n",
      "Done with step 310\n",
      "Done with step 320\n",
      "Done with step 330\n",
      "Done with step 340\n",
      "Done with step 350\n"
     ]
    }
   ],
   "source": [
    "# Load PyMol model, file extension will be autodetected\n",
    "pymol.cmd.load(input_file)\n",
    "pymol.setting.set('ray_opaque_background',1) # need opaque background\n",
    "\n",
    "# Number of degrees to rotate each frame\n",
    "step = 10\n",
    "\n",
    "# Vector to hold images\n",
    "images = []\n",
    "\n",
    "for a in range(0,360,step):\n",
    "\n",
    "    pymol.cmd.rotate(\"y\", float(step)) # Rotate around Y-axis\n",
    "    png_file = f\"img/file{str(a)}.png\"\n",
    "    #pymol.cmd.ray(200,200)\n",
    "    pymol.cmd.png(png_file,900,900,300,0)\n",
    "    images.append(imageio.imread(png_file))\n",
    "    print(f'Done with step {a}')\n",
    "# Create gif animation from images\n",
    "imageio.mimsave('animation.gif', images)"
   ]
  },
  {
   "cell_type": "code",
   "execution_count": null,
   "id": "379e71b0-8924-4e15-ae21-91f163496ba6",
   "metadata": {},
   "outputs": [],
   "source": []
  }
 ],
 "metadata": {
  "kernelspec": {
   "display_name": "pymol_env",
   "language": "python",
   "name": "pymol_env"
  },
  "language_info": {
   "codemirror_mode": {
    "name": "ipython",
    "version": 3
   },
   "file_extension": ".py",
   "mimetype": "text/x-python",
   "name": "python",
   "nbconvert_exporter": "python",
   "pygments_lexer": "ipython3",
   "version": "3.8.10"
  }
 },
 "nbformat": 4,
 "nbformat_minor": 5
}
